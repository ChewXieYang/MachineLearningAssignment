{
  "nbformat": 4,
  "nbformat_minor": 0,
  "metadata": {
    "colab": {
      "provenance": []
    },
    "kernelspec": {
      "name": "python3",
      "display_name": "Python 3"
    },
    "language_info": {
      "name": "python"
    }
  },
  "cells": [
    {
      "cell_type": "markdown",
      "source": [
        "\n",
        "\n",
        "*   To clarify certain concepts already presented.\n",
        "*   To explore more advanced concept of the lab materials\n",
        "*  To provide visualizations to aid deeper understanding of the lab materials\n",
        "* To apply the materials to real-world datasets to further demonstrate how those materials\n",
        "can be used.\n",
        "* To compare different between the various methods, approaches, or models\n",
        "* To demonstrate the advantages and disadvantages of various methods, approaches, or\n",
        "models.\n",
        "\n"
      ],
      "metadata": {
        "id": "d4VzEqtwncuS"
      }
    },
    {
      "cell_type": "markdown",
      "source": [
        "# Simple Linear Regression with scikit-learn"
      ],
      "metadata": {
        "id": "q9I7tNBWWy1q"
      }
    },
    {
      "cell_type": "markdown",
      "source": [
        "To clarify certain concepts already presented"
      ],
      "metadata": {
        "id": "DoiaRToYaGUi"
      }
    },
    {
      "cell_type": "code",
      "source": [
        "import numpy as np\n",
        "import matplotlib.pyplot as plt\n",
        "from sklearn.linear_model import LinearRegression\n",
        "\n",
        "# Enable inline plotting for Jupyter Notebook\n",
        "%matplotlib inline\n",
        "\n",
        "# Create figure for initial data visualization\n",
        "plt.figure(figsize=(8, 6))\n",
        "\n",
        "# Define feature (X) and target (y) data\n",
        "X = np.array([1, 3, 5, 6, 8, 9]).reshape((-1, 1))  # Reshape for scikit-learn compatibility\n",
        "y = np.array([4, 6, 9, 13, 14, 17]).reshape((-1, 1))\n",
        "\n",
        "# Print shapes to understand the input dimensions\n",
        "print(\"Shape of feature data (X):\", X.shape)\n",
        "print(\"Shape of target data (y):\", y.shape)\n",
        "\n",
        "# Plot data points\n",
        "plt.scatter(X, y, color=\"blue\", label=\"Data Points\")\n",
        "plt.xlim(0, 10)\n",
        "plt.ylim(0, 20)\n",
        "plt.xlabel('x (Feature)')\n",
        "plt.ylabel('y (Target)')\n",
        "plt.title(\"Scatter Plot of Data\")\n",
        "\n",
        "plt.legend()\n",
        "plt.show()\n",
        "\n",
        "# Create a LinearRegression model\n",
        "model = LinearRegression()\n",
        "\n",
        "# Train the model using the data (fit the line to data)\n",
        "model.fit(X, y)\n",
        "\n",
        "# Calculate and display the coefficient of determination (R²)\n",
        "r_sq = model.score(X, y)  # R² explains how well the model fits the data\n",
        "print(f\"Coefficient of determination (R²): {r_sq:.3f}\")\n",
        "\n",
        "# Predict responses using the fitted model\n",
        "y_pred = model.predict(X)\n",
        "print(\"Predicted responses based on fitted model:\\n\", y_pred)\n",
        "\n",
        "# Manually compute predictions using the regression equation\n",
        "y_pred_eq = model.intercept_ + model.coef_ * X\n",
        "print(\"Manually calculated predictions:\\n\", y_pred_eq)\n",
        "\n",
        "# Verify that both methods yield the same predictions\n",
        "print(\"Are predicted responses identical? \", np.allclose(y_pred, y_pred_eq))\n",
        "\n",
        "# New data points for prediction\n",
        "X_new = np.array([2, 3.5, 4, 5.5, 7, 8.5, 10]).reshape((-1, 1))\n",
        "y_new_pred = model.predict(X_new)\n",
        "\n",
        "# Visualize original data, predictions, and regression line\n",
        "plt.figure(figsize=(8, 6))\n",
        "plt.xlim(0, 10)\n",
        "plt.ylim(0, 20)\n",
        "plt.xlabel('x (Feature)')\n",
        "plt.ylabel('y (Target)')\n",
        "plt.scatter(X, y, color=\"blue\", label=\"Data Points\")  # Original data points\n",
        "plt.scatter(X, y_pred, color=\"red\", label=\"Predicted Points\")  # Predicted points on training data\n",
        "plt.scatter(X_new, y_new_pred, color=\"cyan\", label=\"New Predicted Points\")  # Predictions for new data\n",
        "\n",
        "# Generate regression line endpoints for visualization\n",
        "line_X_ends = np.array([[0], [10]])\n",
        "line_y_ends = model.predict(line_X_ends)\n",
        "plt.plot(line_X_ends, line_y_ends, color=\"green\", label=\"Regression Line\")\n",
        "\n",
        "# Annotate the plot with the regression equation and R² value\n",
        "plt.title(f\"Regression Line: $y$ = ({model.intercept_[0]:.3f}) + ({model.coef_[0][0]:.3f})$x$\\n$R^2$ = {r_sq:.3f}\")\n",
        "plt.legend()\n",
        "plt.show()\n",
        "\n",
        "# Print the regression model's intercept and slope\n",
        "print(\"Intercept (b0):\", model.intercept_)\n",
        "print(\"Slope (b1):\", model.coef_)\n"
      ],
      "metadata": {
        "colab": {
          "base_uri": "https://localhost:8080/",
          "height": 1000
        },
        "id": "tx-EF955W6ge",
        "outputId": "0ad05849-dfd6-4433-9eec-7837d5e7c825"
      },
      "execution_count": null,
      "outputs": [
        {
          "output_type": "stream",
          "name": "stdout",
          "text": [
            "Shape of feature data (X): (6, 1)\n",
            "Shape of target data (y): (6, 1)\n"
          ]
        },
        {
          "output_type": "display_data",
          "data": {
            "text/plain": [
              "<Figure size 800x600 with 1 Axes>"
            ],
            "image/png": "[encoded data removed]"
          },
          "metadata": {}
        },
        {
          "output_type": "stream",
          "name": "stdout",
          "text": [
            "Coefficient of determination (R²): 0.963\n",
            "Predicted responses based on fitted model:\n",
            " [[ 3.42647059]\n",
            " [ 6.69117647]\n",
            " [ 9.95588235]\n",
            " [11.58823529]\n",
            " [14.85294118]\n",
            " [16.48529412]]\n",
            "Manually calculated predictions:\n",
            " [[ 3.42647059]\n",
            " [ 6.69117647]\n",
            " [ 9.95588235]\n",
            " [11.58823529]\n",
            " [14.85294118]\n",
            " [16.48529412]]\n",
            "Are predicted responses identical?  True\n"
          ]
        },
        {
          "output_type": "display_data",
          "data": {
            "text/plain": [
              "<Figure size 800x600 with 1 Axes>"
            ],
            "image/png": "[encoded data removed]"
          },
          "metadata": {}
        },
        {
          "output_type": "stream",
          "name": "stdout",
          "text": [
            "Intercept (b0): [1.79411765]\n",
            "Slope (b1): [[1.63235294]]\n"
          ]
        }
      ]
    },
    {
      "cell_type": "markdown",
      "source": [
        "Key Enhancements\n",
        "\n",
        "\n",
        "1.   Clarified Data Shapes:\n",
        "    *  We reshape X and y into columns (e.g., reshape((-1, 1))) because scikit-learn needs them in a specific format: rows for each data point and columns for features.\n",
        "   \n",
        "    *    Like arranging data neatly for the model.\n",
        "\n",
        "\n",
        "2.   What is R²?:\n",
        "    *  R² tells us how well the line fits the data.\n",
        "       *  If R² = 1, the line is perfect.\n",
        "       *   If R² = 0, the line doesn’t explain the data well.\n",
        "\n",
        "\n",
        "\n",
        "3. Making Predictions:\n",
        "  * The model uses the equation of a straight line 𝑦=𝑏0+𝑏1⋅𝑥 to predict y values for given X values.\n",
        "  * Here, b_0 is the intercept (where the line crosses the y-axis), and b_1 is the slope (how steep the line is).\n",
        "\n",
        "\n",
        "4. Checking the predictions\n",
        "  * We compute predictions in two ways:\n",
        "    * Automatically, using model.predict(X).\n",
        "    * Manually, using the equation 𝑦=𝑏0+𝑏1⋅𝑥\n",
        "    * This ensures the model is working as expected.\n",
        "\n",
        "5. Visualizing the Data:\n",
        "  * Plot\n",
        "    * Blue dots for actual data points.\n",
        "    * Red dots for the model’s predictions.\n",
        "    * A green line for the best-fit line (the model's learned equation).\n",
        "  * Makes it easier to see how the line fits the data\n",
        "\n",
        "6. New Predictions\n",
        "  * By adding new X values (like 2, 3.5, 4, etc.), we show how the model can predict y values for data it hasn’t seen before. This is useful in real-life situations like predicting future trends.\n",
        "\n",
        "7. Equation on the Plot:\n",
        "  * The title of the plot shows the regression equation (𝑦=𝑏0+𝑏1⋅𝑥) and R² value, helping us understand the model visually.\n",
        "  \n",
        "\n",
        "\n",
        "\n",
        "\n",
        "\n",
        "\n",
        "\n",
        "\n"
      ],
      "metadata": {
        "id": "uSRkKchrW8it"
      }
    },
    {
      "cell_type": "markdown",
      "source": [
        "# Multiple linear regression with scikit-learn"
      ],
      "metadata": {
        "id": "HezzaC6SnLvU"
      }
    },
    {
      "cell_type": "markdown",
      "source": [
        "* To provide visualizations to aid deeper understanding of the lab materials\n",
        "* To apply the materials to real-world datasets to further demonstrate how those materials can be used.\n",
        "* To compare different between the various methods, approaches, or models\n",
        "\n"
      ],
      "metadata": {
        "id": "KsA0UzvutBxD"
      }
    },
    {
      "cell_type": "markdown",
      "source": [
        "Import libraries and load pre existing dataset"
      ],
      "metadata": {
        "id": "BNHPG6mInOux"
      }
    },
    {
      "cell_type": "code",
      "source": [
        "# Import necessary libraries\n",
        "import numpy as np\n",
        "import pandas as pd  # For better data display\n",
        "from sklearn.datasets import fetch_california_housing\n",
        "from sklearn.model_selection import train_test_split\n",
        "from sklearn.preprocessing import PolynomialFeatures, StandardScaler\n",
        "\n",
        "# Load real-world dataset\n",
        "data = fetch_california_housing(as_frame=True)\n",
        "X, y = data.data[['MedInc', 'AveRooms']], data.target\n",
        "\n",
        "# Display a sample of the dataset\n",
        "print(\"Feature Sample:\")\n",
        "print(X.head())\n",
        "print(\"\\nTarget Sample:\")\n",
        "print(y.head())\n"
      ],
      "metadata": {
        "colab": {
          "base_uri": "https://localhost:8080/"
        },
        "id": "KbhF_Jbqqt2D",
        "outputId": "7d966e48-1f3e-47a3-b8f3-e4e68aa7559a"
      },
      "execution_count": 7,
      "outputs": [
        {
          "output_type": "stream",
          "name": "stdout",
          "text": [
            "Feature Sample:\n",
            "   MedInc  AveRooms\n",
            "0  8.3252  6.984127\n",
            "1  8.3014  6.238137\n",
            "2  7.2574  8.288136\n",
            "3  5.6431  5.817352\n",
            "4  3.8462  6.281853\n",
            "\n",
            "Target Sample:\n",
            "0    4.526\n",
            "1    3.585\n",
            "2    3.521\n",
            "3    3.413\n",
            "4    3.422\n",
            "Name: MedHouseVal, dtype: float64\n"
          ]
        }
      ]
    },
    {
      "cell_type": "markdown",
      "source": [
        "Pre-processing data"
      ],
      "metadata": {
        "id": "DNCHU4KFq2nt"
      }
    },
    {
      "cell_type": "code",
      "source": [
        "# Scale features\n",
        "scaler = StandardScaler()\n",
        "X_scaled = scaler.fit_transform(X)\n",
        "\n",
        "# Split dataset into training and testing sets\n",
        "X_train, X_test, y_train, y_test = train_test_split(X_scaled, y, test_size=0.2, random_state=42)\n",
        "\n",
        "# Generate polynomial features\n",
        "poly = PolynomialFeatures(degree=2, include_bias=False)\n",
        "X_train_poly = poly.fit_transform(X_train)\n",
        "X_test_poly = poly.transform(X_test)\n"
      ],
      "metadata": {
        "id": "2vxERHKBq4pS"
      },
      "execution_count": 3,
      "outputs": []
    },
    {
      "cell_type": "markdown",
      "source": [
        "Training models"
      ],
      "metadata": {
        "id": "j8E0_RxOq58I"
      }
    },
    {
      "cell_type": "code",
      "source": [
        "# Import regression models\n",
        "from sklearn.linear_model import LinearRegression, Ridge, Lasso\n",
        "\n",
        "# Initialize models\n",
        "models = {\n",
        "    \"Linear Regression\": LinearRegression(),\n",
        "    \"Ridge Regression\": Ridge(alpha=1.0),\n",
        "    \"Lasso Regression\": Lasso(alpha=0.1)\n",
        "}\n",
        "\n",
        "# Train models and store results\n",
        "for name, model in models.items():\n",
        "    model.fit(X_train_poly, y_train)\n",
        "    print(f\"{name} trained successfully.\")\n"
      ],
      "metadata": {
        "colab": {
          "base_uri": "https://localhost:8080/"
        },
        "id": "Z6N86s1Oq68I",
        "outputId": "12e7563e-a1b4-4d4d-ed9b-65c17560166c"
      },
      "execution_count": 4,
      "outputs": [
        {
          "output_type": "stream",
          "name": "stdout",
          "text": [
            "Linear Regression trained successfully.\n",
            "Ridge Regression trained successfully.\n",
            "Lasso Regression trained successfully.\n"
          ]
        }
      ]
    },
    {
      "cell_type": "markdown",
      "source": [
        "Evaluation"
      ],
      "metadata": {
        "id": "JNeykWhRq9nj"
      }
    },
    {
      "cell_type": "code",
      "source": [
        "# Import evaluation metrics\n",
        "from sklearn.metrics import mean_squared_error, mean_absolute_error, r2_score\n",
        "\n",
        "# Evaluate model performance\n",
        "for name, model in models.items():\n",
        "    y_pred = model.predict(X_test_poly)\n",
        "    mse = mean_squared_error(y_test, y_pred)\n",
        "    mae = mean_absolute_error(y_test, y_pred)\n",
        "    r2 = r2_score(y_test, y_pred)\n",
        "    print(f\"{name} -> MSE: {mse:.2f}, MAE: {mae:.2f}, R2: {r2:.2f}\")\n"
      ],
      "metadata": {
        "colab": {
          "base_uri": "https://localhost:8080/"
        },
        "id": "ei5vJR53q-Vg",
        "outputId": "c6cbfd12-8e23-4842-f668-31c8096ff6a0"
      },
      "execution_count": 5,
      "outputs": [
        {
          "output_type": "stream",
          "name": "stdout",
          "text": [
            "Linear Regression -> MSE: 0.71, MAE: 0.62, R2: 0.46\n",
            "Ridge Regression -> MSE: 0.71, MAE: 0.62, R2: 0.46\n",
            "Lasso Regression -> MSE: 0.72, MAE: 0.64, R2: 0.45\n"
          ]
        }
      ]
    },
    {
      "cell_type": "markdown",
      "source": [
        "Linear Regression\n",
        "  * Simple\n",
        "  * Prone to overfitting\n",
        "\n",
        "Ridge Regression\n",
        "  * Reduce overfitting by penalising large coefficient by adding a regularisation term to the cost function of linear regression.\n",
        "  * May introduce bias because actively shrinks the coefficients towards zero\n",
        "  which changes the value of the model parameters\n",
        "\n",
        "Lasso Regression:\n",
        "   * Performs feature selection.\n",
        "   * Can overly shrink coefficients.\n",
        "\n",
        "\n"
      ],
      "metadata": {
        "id": "_GjTVLM5rAbq"
      }
    },
    {
      "cell_type": "markdown",
      "source": [
        "# Polynomial Regression with scikit-learn"
      ],
      "metadata": {
        "id": "--537JkKbjz1"
      }
    },
    {
      "cell_type": "markdown",
      "source": [
        "\n",
        "\n",
        "*   \n",
        "To apply the materials to real-world dataset to further demonstrate how those materials can be used\n",
        "*   To demonstrate the advantages and disadvantages of various methods, approaches or models\n",
        "* To explore more advance concept of the lab materials\n",
        "\n"
      ],
      "metadata": {
        "id": "vQF2aZdQbnMd"
      }
    },
    {
      "cell_type": "markdown",
      "source": [
        "Source : https://www.kaggle.com/code/nancyalaswad90/diabetes-database/input\n",
        "\n"
      ],
      "metadata": {
        "id": "y8EI5-VeftoN"
      }
    },
    {
      "cell_type": "markdown",
      "source": [
        "Import libraries"
      ],
      "metadata": {
        "id": "ipqMgeZMbzhz"
      }
    },
    {
      "cell_type": "code",
      "source": [
        "import pandas as pd\n",
        "import numpy as np\n",
        "import matplotlib.pyplot as plt\n",
        "from sklearn.model_selection import train_test_split\n",
        "from sklearn.preprocessing import PolynomialFeatures, StandardScaler\n",
        "from sklearn.linear_model import LinearRegression\n",
        "from sklearn.metrics import mean_squared_error, r2_score"
      ],
      "metadata": {
        "id": "BemUAbC0b0oq"
      },
      "execution_count": null,
      "outputs": []
    },
    {
      "cell_type": "markdown",
      "source": [
        "Load the dataset"
      ],
      "metadata": {
        "id": "PjI8Xj_Sb1aQ"
      }
    },
    {
      "cell_type": "code",
      "source": [
        "df = pd.read_csv('diabetes.csv')"
      ],
      "metadata": {
        "id": "VQfuJhK0b3Gn"
      },
      "execution_count": null,
      "outputs": []
    },
    {
      "cell_type": "markdown",
      "source": [
        "Display some information about the dataset"
      ],
      "metadata": {
        "id": "kVSMkg3Ob4Hs"
      }
    },
    {
      "cell_type": "code",
      "source": [
        "print(df.head())  # Display the first 5 rows\n",
        "print(df.info())  # Dataset structure\n",
        "print(df.describe())  # Summary statistics"
      ],
      "metadata": {
        "colab": {
          "base_uri": "https://localhost:8080/"
        },
        "id": "m6j13icfb7wM",
        "outputId": "41fb04d8-b4f7-46d1-a650-8826d1f2bf77"
      },
      "execution_count": null,
      "outputs": [
        {
          "output_type": "stream",
          "name": "stdout",
          "text": [
            "   Pregnancies  Glucose  BloodPressure  SkinThickness  Insulin   BMI  \\\n",
            "0            6      148             72             35        0  33.6   \n",
            "1            1       85             66             29        0  26.6   \n",
            "2            8      183             64              0        0  23.3   \n",
            "3            1       89             66             23       94  28.1   \n",
            "4            0      137             40             35      168  43.1   \n",
            "\n",
            "   DiabetesPedigreeFunction  Age  Outcome  \n",
            "0                     0.627   50        1  \n",
            "1                     0.351   31        0  \n",
            "2                     0.672   32        1  \n",
            "3                     0.167   21        0  \n",
            "4                     2.288   33        1  \n",
            "<class 'pandas.core.frame.DataFrame'>\n",
            "RangeIndex: 768 entries, 0 to 767\n",
            "Data columns (total 9 columns):\n",
            " #   Column                    Non-Null Count  Dtype  \n",
            "---  ------                    --------------  -----  \n",
            " 0   Pregnancies               768 non-null    int64  \n",
            " 1   Glucose                   768 non-null    int64  \n",
            " 2   BloodPressure             768 non-null    int64  \n",
            " 3   SkinThickness             768 non-null    int64  \n",
            " 4   Insulin                   768 non-null    int64  \n",
            " 5   BMI                       768 non-null    float64\n",
            " 6   DiabetesPedigreeFunction  768 non-null    float64\n",
            " 7   Age                       768 non-null    int64  \n",
            " 8   Outcome                   768 non-null    int64  \n",
            "dtypes: float64(2), int64(7)\n",
            "memory usage: 54.1 KB\n",
            "None\n",
            "       Pregnancies     Glucose  BloodPressure  SkinThickness     Insulin  \\\n",
            "count   768.000000  768.000000     768.000000     768.000000  768.000000   \n",
            "mean      3.845052  120.894531      69.105469      20.536458   79.799479   \n",
            "std       3.369578   31.972618      19.355807      15.952218  115.244002   \n",
            "min       0.000000    0.000000       0.000000       0.000000    0.000000   \n",
            "25%       1.000000   99.000000      62.000000       0.000000    0.000000   \n",
            "50%       3.000000  117.000000      72.000000      23.000000   30.500000   \n",
            "75%       6.000000  140.250000      80.000000      32.000000  127.250000   \n",
            "max      17.000000  199.000000     122.000000      99.000000  846.000000   \n",
            "\n",
            "              BMI  DiabetesPedigreeFunction         Age     Outcome  \n",
            "count  768.000000                768.000000  768.000000  768.000000  \n",
            "mean    31.992578                  0.471876   33.240885    0.348958  \n",
            "std      7.884160                  0.331329   11.760232    0.476951  \n",
            "min      0.000000                  0.078000   21.000000    0.000000  \n",
            "25%     27.300000                  0.243750   24.000000    0.000000  \n",
            "50%     32.000000                  0.372500   29.000000    0.000000  \n",
            "75%     36.600000                  0.626250   41.000000    1.000000  \n",
            "max     67.100000                  2.420000   81.000000    1.000000  \n"
          ]
        }
      ]
    },
    {
      "cell_type": "markdown",
      "source": [
        "Select relevant features and target variable"
      ],
      "metadata": {
        "id": "azXGiQXTb8V1"
      }
    },
    {
      "cell_type": "code",
      "source": [
        "X = df[['Glucose', 'BMI']]  # Independent variables\n",
        "y = df['Outcome']  # Target variable (binary)"
      ],
      "metadata": {
        "id": "P18WxO1scAJf"
      },
      "execution_count": null,
      "outputs": []
    },
    {
      "cell_type": "markdown",
      "source": [
        "Train-test split"
      ],
      "metadata": {
        "id": "cX9Ou-WvcBgM"
      }
    },
    {
      "cell_type": "code",
      "source": [
        "X_train, X_test, y_train, y_test = train_test_split(X, y, test_size=0.2, random_state=42)\n"
      ],
      "metadata": {
        "id": "FCTDf-o-cDlo"
      },
      "execution_count": null,
      "outputs": []
    },
    {
      "cell_type": "markdown",
      "source": [
        "Applying polynomial features"
      ],
      "metadata": {
        "id": "JY3EKznhcE4K"
      }
    },
    {
      "cell_type": "code",
      "source": [
        "poly = PolynomialFeatures(degree=2, include_bias=False)\n",
        "X_train_poly = poly.fit_transform(X_train)\n",
        "X_test_poly = poly.transform(X_test)\n",
        "\n",
        "print(f\"Original features: {X_train.shape[1]}\")\n",
        "print(f\"Transformed features (degree=2): {X_train_poly.shape[1]}\")"
      ],
      "metadata": {
        "colab": {
          "base_uri": "https://localhost:8080/"
        },
        "id": "vd4-GUUHcHCi",
        "outputId": "43b2b290-2f8b-4a86-a2d7-86ea6703ed64"
      },
      "execution_count": null,
      "outputs": [
        {
          "output_type": "stream",
          "name": "stdout",
          "text": [
            "Original features: 2\n",
            "Transformed features (degree=2): 5\n"
          ]
        }
      ]
    },
    {
      "cell_type": "markdown",
      "source": [
        "Scaling the features"
      ],
      "metadata": {
        "id": "wa-vZXz-cJFu"
      }
    },
    {
      "cell_type": "code",
      "source": [
        "scaler = StandardScaler()\n",
        "X_train_poly = scaler.fit_transform(X_train_poly)\n",
        "X_test_poly = scaler.transform(X_test_poly)"
      ],
      "metadata": {
        "id": "ASPBIXNGcKlo"
      },
      "execution_count": null,
      "outputs": []
    },
    {
      "cell_type": "markdown",
      "source": [
        "Training polynomial regression model"
      ],
      "metadata": {
        "id": "UN21w1BJcLGM"
      }
    },
    {
      "cell_type": "code",
      "source": [
        "model = LinearRegression()\n",
        "model.fit(X_train_poly, y_train)"
      ],
      "metadata": {
        "colab": {
          "base_uri": "https://localhost:8080/",
          "height": 80
        },
        "id": "uMnZX5IqcNMZ",
        "outputId": "756129cb-470e-490f-b0d7-9c6458ddd014"
      },
      "execution_count": null,
      "outputs": [
        {
          "output_type": "execute_result",
          "data": {
            "text/plain": [
              "LinearRegression()"
            ],
            "text/html": [
              "<style>#sk-container-id-1 {\n",
              "  /* Definition of color scheme common for light and dark mode */\n",
              "  --sklearn-color-text: #000;\n",
              "  --sklearn-color-text-muted: #666;\n",
              "  --sklearn-color-line: gray;\n",
              "  /* Definition of color scheme for unfitted estimators */\n",
              "  --sklearn-color-unfitted-level-0: #fff5e6;\n",
              "  --sklearn-color-unfitted-level-1: #f6e4d2;\n",
              "  --sklearn-color-unfitted-level-2: #ffe0b3;\n",
              "  --sklearn-color-unfitted-level-3: chocolate;\n",
              "  /* Definition of color scheme for fitted estimators */\n",
              "  --sklearn-color-fitted-level-0: #f0f8ff;\n",
              "  --sklearn-color-fitted-level-1: #d4ebff;\n",
              "  --sklearn-color-fitted-level-2: #b3dbfd;\n",
              "  --sklearn-color-fitted-level-3: cornflowerblue;\n",
              "\n",
              "  /* Specific color for light theme */\n",
              "  --sklearn-color-text-on-default-background: var(--sg-text-color, var(--theme-code-foreground, var(--jp-content-font-color1, black)));\n",
              "  --sklearn-color-background: var(--sg-background-color, var(--theme-background, var(--jp-layout-color0, white)));\n",
              "  --sklearn-color-border-box: var(--sg-text-color, var(--theme-code-foreground, var(--jp-content-font-color1, black)));\n",
              "  --sklearn-color-icon: #696969;\n",
              "\n",
              "  @media (prefers-color-scheme: dark) {\n",
              "    /* Redefinition of color scheme for dark theme */\n",
              "    --sklearn-color-text-on-default-background: var(--sg-text-color, var(--theme-code-foreground, var(--jp-content-font-color1, white)));\n",
              "    --sklearn-color-background: var(--sg-background-color, var(--theme-background, var(--jp-layout-color0, #111)));\n",
              "    --sklearn-color-border-box: var(--sg-text-color, var(--theme-code-foreground, var(--jp-content-font-color1, white)));\n",
              "    --sklearn-color-icon: #878787;\n",
              "  }\n",
              "}\n",
              "\n",
              "#sk-container-id-1 {\n",
              "  color: var(--sklearn-color-text);\n",
              "}\n",
              "\n",
              "#sk-container-id-1 pre {\n",
              "  padding: 0;\n",
              "}\n",
              "\n",
              "#sk-container-id-1 input.sk-hidden--visually {\n",
              "  border: 0;\n",
              "  clip: rect(1px 1px 1px 1px);\n",
              "  clip: rect(1px, 1px, 1px, 1px);\n",
              "  height: 1px;\n",
              "  margin: -1px;\n",
              "  overflow: hidden;\n",
              "  padding: 0;\n",
              "  position: absolute;\n",
              "  width: 1px;\n",
              "}\n",
              "\n",
              "#sk-container-id-1 div.sk-dashed-wrapped {\n",
              "  border: 1px dashed var(--sklearn-color-line);\n",
              "  margin: 0 0.4em 0.5em 0.4em;\n",
              "  box-sizing: border-box;\n",
              "  padding-bottom: 0.4em;\n",
              "  background-color: var(--sklearn-color-background);\n",
              "}\n",
              "\n",
              "#sk-container-id-1 div.sk-container {\n",
              "  /* jupyter's `normalize.less` sets `[hidden] { display: none; }`\n",
              "     but bootstrap.min.css set `[hidden] { display: none !important; }`\n",
              "     so we also need the `!important` here to be able to override the\n",
              "     default hidden behavior on the sphinx rendered scikit-learn.org.\n",
              "     See: https://github.com/scikit-learn/scikit-learn/issues/21755 */\n",
              "  display: inline-block !important;\n",
              "  position: relative;\n",
              "}\n",
              "\n",
              "#sk-container-id-1 div.sk-text-repr-fallback {\n",
              "  display: none;\n",
              "}\n",
              "\n",
              "div.sk-parallel-item,\n",
              "div.sk-serial,\n",
              "div.sk-item {\n",
              "  /* draw centered vertical line to link estimators */\n",
              "  background-image: linear-gradient(var(--sklearn-color-text-on-default-background), var(--sklearn-color-text-on-default-background));\n",
              "  background-size: 2px 100%;\n",
              "  background-repeat: no-repeat;\n",
              "  background-position: center center;\n",
              "}\n",
              "\n",
              "/* Parallel-specific style estimator block */\n",
              "\n",
              "#sk-container-id-1 div.sk-parallel-item::after {\n",
              "  content: \"\";\n",
              "  width: 100%;\n",
              "  border-bottom: 2px solid var(--sklearn-color-text-on-default-background);\n",
              "  flex-grow: 1;\n",
              "}\n",
              "\n",
              "#sk-container-id-1 div.sk-parallel {\n",
              "  display: flex;\n",
              "  align-items: stretch;\n",
              "  justify-content: center;\n",
              "  background-color: var(--sklearn-color-background);\n",
              "  position: relative;\n",
              "}\n",
              "\n",
              "#sk-container-id-1 div.sk-parallel-item {\n",
              "  display: flex;\n",
              "  flex-direction: column;\n",
              "}\n",
              "\n",
              "#sk-container-id-1 div.sk-parallel-item:first-child::after {\n",
              "  align-self: flex-end;\n",
              "  width: 50%;\n",
              "}\n",
              "\n",
              "#sk-container-id-1 div.sk-parallel-item:last-child::after {\n",
              "  align-self: flex-start;\n",
              "  width: 50%;\n",
              "}\n",
              "\n",
              "#sk-container-id-1 div.sk-parallel-item:only-child::after {\n",
              "  width: 0;\n",
              "}\n",
              "\n",
              "/* Serial-specific style estimator block */\n",
              "\n",
              "#sk-container-id-1 div.sk-serial {\n",
              "  display: flex;\n",
              "  flex-direction: column;\n",
              "  align-items: center;\n",
              "  background-color: var(--sklearn-color-background);\n",
              "  padding-right: 1em;\n",
              "  padding-left: 1em;\n",
              "}\n",
              "\n",
              "\n",
              "/* Toggleable style: style used for estimator/Pipeline/ColumnTransformer box that is\n",
              "clickable and can be expanded/collapsed.\n",
              "- Pipeline and ColumnTransformer use this feature and define the default style\n",
              "- Estimators will overwrite some part of the style using the `sk-estimator` class\n",
              "*/\n",
              "\n",
              "/* Pipeline and ColumnTransformer style (default) */\n",
              "\n",
              "#sk-container-id-1 div.sk-toggleable {\n",
              "  /* Default theme specific background. It is overwritten whether we have a\n",
              "  specific estimator or a Pipeline/ColumnTransformer */\n",
              "  background-color: var(--sklearn-color-background);\n",
              "}\n",
              "\n",
              "/* Toggleable label */\n",
              "#sk-container-id-1 label.sk-toggleable__label {\n",
              "  cursor: pointer;\n",
              "  display: flex;\n",
              "  width: 100%;\n",
              "  margin-bottom: 0;\n",
              "  padding: 0.5em;\n",
              "  box-sizing: border-box;\n",
              "  text-align: center;\n",
              "  align-items: start;\n",
              "  justify-content: space-between;\n",
              "  gap: 0.5em;\n",
              "}\n",
              "\n",
              "#sk-container-id-1 label.sk-toggleable__label .caption {\n",
              "  font-size: 0.6rem;\n",
              "  font-weight: lighter;\n",
              "  color: var(--sklearn-color-text-muted);\n",
              "}\n",
              "\n",
              "#sk-container-id-1 label.sk-toggleable__label-arrow:before {\n",
              "  /* Arrow on the left of the label */\n",
              "  content: \"▸\";\n",
              "  float: left;\n",
              "  margin-right: 0.25em;\n",
              "  color: var(--sklearn-color-icon);\n",
              "}\n",
              "\n",
              "#sk-container-id-1 label.sk-toggleable__label-arrow:hover:before {\n",
              "  color: var(--sklearn-color-text);\n",
              "}\n",
              "\n",
              "/* Toggleable content - dropdown */\n",
              "\n",
              "#sk-container-id-1 div.sk-toggleable__content {\n",
              "  max-height: 0;\n",
              "  max-width: 0;\n",
              "  overflow: hidden;\n",
              "  text-align: left;\n",
              "  /* unfitted */\n",
              "  background-color: var(--sklearn-color-unfitted-level-0);\n",
              "}\n",
              "\n",
              "#sk-container-id-1 div.sk-toggleable__content.fitted {\n",
              "  /* fitted */\n",
              "  background-color: var(--sklearn-color-fitted-level-0);\n",
              "}\n",
              "\n",
              "#sk-container-id-1 div.sk-toggleable__content pre {\n",
              "  margin: 0.2em;\n",
              "  border-radius: 0.25em;\n",
              "  color: var(--sklearn-color-text);\n",
              "  /* unfitted */\n",
              "  background-color: var(--sklearn-color-unfitted-level-0);\n",
              "}\n",
              "\n",
              "#sk-container-id-1 div.sk-toggleable__content.fitted pre {\n",
              "  /* unfitted */\n",
              "  background-color: var(--sklearn-color-fitted-level-0);\n",
              "}\n",
              "\n",
              "#sk-container-id-1 input.sk-toggleable__control:checked~div.sk-toggleable__content {\n",
              "  /* Expand drop-down */\n",
              "  max-height: 200px;\n",
              "  max-width: 100%;\n",
              "  overflow: auto;\n",
              "}\n",
              "\n",
              "#sk-container-id-1 input.sk-toggleable__control:checked~label.sk-toggleable__label-arrow:before {\n",
              "  content: \"▾\";\n",
              "}\n",
              "\n",
              "/* Pipeline/ColumnTransformer-specific style */\n",
              "\n",
              "#sk-container-id-1 div.sk-label input.sk-toggleable__control:checked~label.sk-toggleable__label {\n",
              "  color: var(--sklearn-color-text);\n",
              "  background-color: var(--sklearn-color-unfitted-level-2);\n",
              "}\n",
              "\n",
              "#sk-container-id-1 div.sk-label.fitted input.sk-toggleable__control:checked~label.sk-toggleable__label {\n",
              "  background-color: var(--sklearn-color-fitted-level-2);\n",
              "}\n",
              "\n",
              "/* Estimator-specific style */\n",
              "\n",
              "/* Colorize estimator box */\n",
              "#sk-container-id-1 div.sk-estimator input.sk-toggleable__control:checked~label.sk-toggleable__label {\n",
              "  /* unfitted */\n",
              "  background-color: var(--sklearn-color-unfitted-level-2);\n",
              "}\n",
              "\n",
              "#sk-container-id-1 div.sk-estimator.fitted input.sk-toggleable__control:checked~label.sk-toggleable__label {\n",
              "  /* fitted */\n",
              "  background-color: var(--sklearn-color-fitted-level-2);\n",
              "}\n",
              "\n",
              "#sk-container-id-1 div.sk-label label.sk-toggleable__label,\n",
              "#sk-container-id-1 div.sk-label label {\n",
              "  /* The background is the default theme color */\n",
              "  color: var(--sklearn-color-text-on-default-background);\n",
              "}\n",
              "\n",
              "/* On hover, darken the color of the background */\n",
              "#sk-container-id-1 div.sk-label:hover label.sk-toggleable__label {\n",
              "  color: var(--sklearn-color-text);\n",
              "  background-color: var(--sklearn-color-unfitted-level-2);\n",
              "}\n",
              "\n",
              "/* Label box, darken color on hover, fitted */\n",
              "#sk-container-id-1 div.sk-label.fitted:hover label.sk-toggleable__label.fitted {\n",
              "  color: var(--sklearn-color-text);\n",
              "  background-color: var(--sklearn-color-fitted-level-2);\n",
              "}\n",
              "\n",
              "/* Estimator label */\n",
              "\n",
              "#sk-container-id-1 div.sk-label label {\n",
              "  font-family: monospace;\n",
              "  font-weight: bold;\n",
              "  display: inline-block;\n",
              "  line-height: 1.2em;\n",
              "}\n",
              "\n",
              "#sk-container-id-1 div.sk-label-container {\n",
              "  text-align: center;\n",
              "}\n",
              "\n",
              "/* Estimator-specific */\n",
              "#sk-container-id-1 div.sk-estimator {\n",
              "  font-family: monospace;\n",
              "  border: 1px dotted var(--sklearn-color-border-box);\n",
              "  border-radius: 0.25em;\n",
              "  box-sizing: border-box;\n",
              "  margin-bottom: 0.5em;\n",
              "  /* unfitted */\n",
              "  background-color: var(--sklearn-color-unfitted-level-0);\n",
              "}\n",
              "\n",
              "#sk-container-id-1 div.sk-estimator.fitted {\n",
              "  /* fitted */\n",
              "  background-color: var(--sklearn-color-fitted-level-0);\n",
              "}\n",
              "\n",
              "/* on hover */\n",
              "#sk-container-id-1 div.sk-estimator:hover {\n",
              "  /* unfitted */\n",
              "  background-color: var(--sklearn-color-unfitted-level-2);\n",
              "}\n",
              "\n",
              "#sk-container-id-1 div.sk-estimator.fitted:hover {\n",
              "  /* fitted */\n",
              "  background-color: var(--sklearn-color-fitted-level-2);\n",
              "}\n",
              "\n",
              "/* Specification for estimator info (e.g. \"i\" and \"?\") */\n",
              "\n",
              "/* Common style for \"i\" and \"?\" */\n",
              "\n",
              ".sk-estimator-doc-link,\n",
              "a:link.sk-estimator-doc-link,\n",
              "a:visited.sk-estimator-doc-link {\n",
              "  float: right;\n",
              "  font-size: smaller;\n",
              "  line-height: 1em;\n",
              "  font-family: monospace;\n",
              "  background-color: var(--sklearn-color-background);\n",
              "  border-radius: 1em;\n",
              "  height: 1em;\n",
              "  width: 1em;\n",
              "  text-decoration: none !important;\n",
              "  margin-left: 0.5em;\n",
              "  text-align: center;\n",
              "  /* unfitted */\n",
              "  border: var(--sklearn-color-unfitted-level-1) 1pt solid;\n",
              "  color: var(--sklearn-color-unfitted-level-1);\n",
              "}\n",
              "\n",
              ".sk-estimator-doc-link.fitted,\n",
              "a:link.sk-estimator-doc-link.fitted,\n",
              "a:visited.sk-estimator-doc-link.fitted {\n",
              "  /* fitted */\n",
              "  border: var(--sklearn-color-fitted-level-1) 1pt solid;\n",
              "  color: var(--sklearn-color-fitted-level-1);\n",
              "}\n",
              "\n",
              "/* On hover */\n",
              "div.sk-estimator:hover .sk-estimator-doc-link:hover,\n",
              ".sk-estimator-doc-link:hover,\n",
              "div.sk-label-container:hover .sk-estimator-doc-link:hover,\n",
              ".sk-estimator-doc-link:hover {\n",
              "  /* unfitted */\n",
              "  background-color: var(--sklearn-color-unfitted-level-3);\n",
              "  color: var(--sklearn-color-background);\n",
              "  text-decoration: none;\n",
              "}\n",
              "\n",
              "div.sk-estimator.fitted:hover .sk-estimator-doc-link.fitted:hover,\n",
              ".sk-estimator-doc-link.fitted:hover,\n",
              "div.sk-label-container:hover .sk-estimator-doc-link.fitted:hover,\n",
              ".sk-estimator-doc-link.fitted:hover {\n",
              "  /* fitted */\n",
              "  background-color: var(--sklearn-color-fitted-level-3);\n",
              "  color: var(--sklearn-color-background);\n",
              "  text-decoration: none;\n",
              "}\n",
              "\n",
              "/* Span, style for the box shown on hovering the info icon */\n",
              ".sk-estimator-doc-link span {\n",
              "  display: none;\n",
              "  z-index: 9999;\n",
              "  position: relative;\n",
              "  font-weight: normal;\n",
              "  right: .2ex;\n",
              "  padding: .5ex;\n",
              "  margin: .5ex;\n",
              "  width: min-content;\n",
              "  min-width: 20ex;\n",
              "  max-width: 50ex;\n",
              "  color: var(--sklearn-color-text);\n",
              "  box-shadow: 2pt 2pt 4pt #999;\n",
              "  /* unfitted */\n",
              "  background: var(--sklearn-color-unfitted-level-0);\n",
              "  border: .5pt solid var(--sklearn-color-unfitted-level-3);\n",
              "}\n",
              "\n",
              ".sk-estimator-doc-link.fitted span {\n",
              "  /* fitted */\n",
              "  background: var(--sklearn-color-fitted-level-0);\n",
              "  border: var(--sklearn-color-fitted-level-3);\n",
              "}\n",
              "\n",
              ".sk-estimator-doc-link:hover span {\n",
              "  display: block;\n",
              "}\n",
              "\n",
              "/* \"?\"-specific style due to the `<a>` HTML tag */\n",
              "\n",
              "#sk-container-id-1 a.estimator_doc_link {\n",
              "  float: right;\n",
              "  font-size: 1rem;\n",
              "  line-height: 1em;\n",
              "  font-family: monospace;\n",
              "  background-color: var(--sklearn-color-background);\n",
              "  border-radius: 1rem;\n",
              "  height: 1rem;\n",
              "  width: 1rem;\n",
              "  text-decoration: none;\n",
              "  /* unfitted */\n",
              "  color: var(--sklearn-color-unfitted-level-1);\n",
              "  border: var(--sklearn-color-unfitted-level-1) 1pt solid;\n",
              "}\n",
              "\n",
              "#sk-container-id-1 a.estimator_doc_link.fitted {\n",
              "  /* fitted */\n",
              "  border: var(--sklearn-color-fitted-level-1) 1pt solid;\n",
              "  color: var(--sklearn-color-fitted-level-1);\n",
              "}\n",
              "\n",
              "/* On hover */\n",
              "#sk-container-id-1 a.estimator_doc_link:hover {\n",
              "  /* unfitted */\n",
              "  background-color: var(--sklearn-color-unfitted-level-3);\n",
              "  color: var(--sklearn-color-background);\n",
              "  text-decoration: none;\n",
              "}\n",
              "\n",
              "#sk-container-id-1 a.estimator_doc_link.fitted:hover {\n",
              "  /* fitted */\n",
              "  background-color: var(--sklearn-color-fitted-level-3);\n",
              "}\n",
              "</style><div id=\"sk-container-id-1\" class=\"sk-top-container\"><div class=\"sk-text-repr-fallback\"><pre>LinearRegression()</pre><b>In a Jupyter environment, please rerun this cell to show the HTML representation or trust the notebook. <br />On GitHub, the HTML representation is unable to render, please try loading this page with nbviewer.org.</b></div><div class=\"sk-container\" hidden><div class=\"sk-item\"><div class=\"sk-estimator fitted sk-toggleable\"><input class=\"sk-toggleable__control sk-hidden--visually\" id=\"sk-estimator-id-1\" type=\"checkbox\" checked><label for=\"sk-estimator-id-1\" class=\"sk-toggleable__label fitted sk-toggleable__label-arrow\"><div><div>LinearRegression</div></div><div><a class=\"sk-estimator-doc-link fitted\" rel=\"noreferrer\" target=\"_blank\" href=\"https://scikit-learn.org/1.6/modules/generated/sklearn.linear_model.LinearRegression.html\">?<span>Documentation for LinearRegression</span></a><span class=\"sk-estimator-doc-link fitted\">i<span>Fitted</span></span></div></label><div class=\"sk-toggleable__content fitted\"><pre>LinearRegression()</pre></div> </div></div></div></div>"
            ]
          },
          "metadata": {},
          "execution_count": 11
        }
      ]
    },
    {
      "cell_type": "markdown",
      "source": [
        "Evaluating the model"
      ],
      "metadata": {
        "id": "kj4Qr0LdcNvH"
      }
    },
    {
      "cell_type": "code",
      "source": [
        "y_train_pred = model.predict(X_train_poly)\n",
        "y_test_pred = model.predict(X_test_poly)\n",
        "\n",
        "train_mse = mean_squared_error(y_train, y_train_pred)\n",
        "test_mse = mean_squared_error(y_test, y_test_pred)\n",
        "train_r2 = r2_score(y_train, y_train_pred)\n",
        "test_r2 = r2_score(y_test, y_test_pred)\n",
        "\n",
        "print(f\"Train MSE: {train_mse:.3f}, Train R²: {train_r2:.3f}\")\n",
        "print(f\"Test MSE: {test_mse:.3f}, Test R²: {test_r2:.3f}\")"
      ],
      "metadata": {
        "colab": {
          "base_uri": "https://localhost:8080/"
        },
        "id": "4q9RQwD4cP-D",
        "outputId": "c486a242-86cd-4ea8-faa2-f788d9351c59"
      },
      "execution_count": null,
      "outputs": [
        {
          "output_type": "stream",
          "name": "stdout",
          "text": [
            "Train MSE: 0.164, Train R²: 0.275\n",
            "Test MSE: 0.170, Test R²: 0.260\n"
          ]
        }
      ]
    },
    {
      "cell_type": "markdown",
      "source": [
        "Visualisation"
      ],
      "metadata": {
        "id": "LV7i4KBccQXI"
      }
    },
    {
      "cell_type": "code",
      "source": [
        "plt.figure(figsize=(10, 6))"
      ],
      "metadata": {
        "colab": {
          "base_uri": "https://localhost:8080/",
          "height": 52
        },
        "id": "sekwZ1iqcR45",
        "outputId": "c3fc19c0-82b3-4116-f161-a105c37aeb3e"
      },
      "execution_count": null,
      "outputs": [
        {
          "output_type": "execute_result",
          "data": {
            "text/plain": [
              "<Figure size 1000x600 with 0 Axes>"
            ]
          },
          "metadata": {},
          "execution_count": 13
        },
        {
          "output_type": "display_data",
          "data": {
            "text/plain": [
              "<Figure size 1000x600 with 0 Axes>"
            ]
          },
          "metadata": {}
        }
      ]
    },
    {
      "cell_type": "markdown",
      "source": [
        "Actual vs predicted"
      ],
      "metadata": {
        "id": "ywNX4-D7cShR"
      }
    },
    {
      "cell_type": "code",
      "source": [
        "plt.scatter(y_test, y_test_pred, color='blue', alpha=0.6, label='Predicted vs Actual')\n",
        "plt.plot([0, 1], [0, 1], color='red', linestyle='--', label='Ideal Line')\n",
        "\n",
        "plt.xlabel('Actual Outcome')\n",
        "plt.ylabel('Predicted Outcome')\n",
        "plt.title('Polynomial Regression: Predicted vs Actual')\n",
        "plt.legend()\n",
        "plt.show()\n"
      ],
      "metadata": {
        "colab": {
          "base_uri": "https://localhost:8080/",
          "height": 472
        },
        "id": "EVlbZ5ShcZGc",
        "outputId": "fc551a48-6540-4952-9a22-f302220a7ed7"
      },
      "execution_count": null,
      "outputs": [
        {
          "output_type": "display_data",
          "data": {
            "text/plain": [
              "<Figure size 640x480 with 1 Axes>"
            ],
            "image/png": "[encoded data removed]"
          },
          "metadata": {}
        }
      ]
    },
    {
      "cell_type": "markdown",
      "source": [
        "\n",
        "\n",
        "*   The predictions for Outcome = 0 and Outcome = 1 seem clustered, as expected for a binary classification target.\n",
        "*   Polynomial regression may predict continuous values, which are then close to 0 or 1 but not exactly binary, leading to slight scatter around these clusters.\n",
        "\n"
      ],
      "metadata": {
        "id": "zmoF9ChVdGOq"
      }
    },
    {
      "cell_type": "markdown",
      "source": [
        "Compare linear and polynomial regression"
      ],
      "metadata": {
        "id": "8MWv9Z8YcdC8"
      }
    },
    {
      "cell_type": "markdown",
      "source": [
        "Simple regression model training for comparison"
      ],
      "metadata": {
        "id": "pWfUT6TjchIW"
      }
    },
    {
      "cell_type": "code",
      "source": [
        "linear_model = LinearRegression()\n",
        "linear_model.fit(X_train, y_train)\n",
        "\n",
        "y_linear_pred = linear_model.predict(X_test)\n",
        "\n",
        "linear_mse = mean_squared_error(y_test, y_linear_pred)\n",
        "linear_r2 = r2_score(y_test, y_linear_pred)\n",
        "\n",
        "print(f\"Linear Regression Test MSE: {linear_mse:.3f}, Test R²: {linear_r2:.3f}\")\n",
        "print(f\"Polynomial Regression Test MSE: {test_mse:.3f}, Test R²: {test_r2:.3f}\")"
      ],
      "metadata": {
        "colab": {
          "base_uri": "https://localhost:8080/"
        },
        "id": "WGa1P3mMcm4B",
        "outputId": "5927526d-43e9-4d7e-8305-9783ad98ab48"
      },
      "execution_count": null,
      "outputs": [
        {
          "output_type": "stream",
          "name": "stdout",
          "text": [
            "Linear Regression Test MSE: 0.172, Test R²: 0.252\n",
            "Polynomial Regression Test MSE: 0.170, Test R²: 0.260\n"
          ]
        }
      ]
    }
  ]
}